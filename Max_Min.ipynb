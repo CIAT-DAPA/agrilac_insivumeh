{
  "nbformat": 4,
  "nbformat_minor": 0,
  "metadata": {
    "colab": {
      "provenance": []
    },
    "kernelspec": {
      "name": "python3",
      "display_name": "Python 3"
    },
    "language_info": {
      "name": "python"
    }
  },
  "cells": [
    {
      "cell_type": "code",
      "execution_count": null,
      "metadata": {
        "id": "Pv21wexHlvdz"
      },
      "outputs": [],
      "source": [
        "def estacion_var_min_month(df):\n",
        "\n",
        "  rows, columns = df.shape #almacena el número de filas y columnas \n",
        "  df_columns = list(df.columns.values)#crea un objeto de lista. Un objeto de lista es una colección ordenada y modificable.\n",
        "  #devuelve un objeto de vista. lista con nombres de columnas header\n",
        "\n",
        "\n",
        "# range(inicio,fin)\n",
        "#recorrer elementos uno a uno\n",
        "  for i in range(3, columns):\n",
        "    columns_df_select = [] #lista vacía\n",
        "    \n",
        "    mes = df_columns[2]\n",
        "    column_select = df_columns[i] #a partir de columna 3, variables a analizar\n",
        "    \n",
        "    #agregar elementos al final de lista\n",
        "    columns_df_select.append(mes)\n",
        "    columns_df_select.append(column_select)#nombre columna a pivotear y a analizar \n",
        "    \n",
        "    df_filtered = df_max_min[columns_df_select]#df completo solo saco las var a analizar\n",
        "    df_clean_nan = df_filtered.dropna()\n",
        "    #agrupar las nuevas columnas por el min\n",
        "    df_groupby = df_clean_nan.groupby(['Mes']).min(column_select)#colum a analizar\n",
        "\n",
        "    #\n",
        "\n",
        "    if i == 3:\n",
        "      df_full_metrics = df_groupby #copia de primera vuelta\n",
        "\n",
        "    if i == 4:\n",
        "      df_result = pd.concat([df_full_metrics, df_groupby], axis = 1)#mes var 1 y var 2\n",
        "    \n",
        "    if i > 4:\n",
        "      df_result = pd.concat([df_result, df_groupby], axis = 1)\n",
        "\n",
        "  return df_result"
      ]
    },
    {
      "cell_type": "code",
      "source": [
        "def estacion_var_max_month(df):\n",
        "\n",
        "  rows, columns = df.shape #almacena el número de filas y columnas \n",
        "  df_columns = list(df.columns.values)#crea un objeto de lista. Un objeto de lista es una colección ordenada y modificable.\n",
        "  #devuelve un objeto de vista. lista con nombres de columnas header\n",
        "\n",
        "\n",
        "# range(inicio,fin)\n",
        "#recorrer elementos uno a uno\n",
        "  for i in range(3, columns):\n",
        "    columns_df_select = [] #lista vacía\n",
        "    \n",
        "    mes = df_columns[2]\n",
        "    column_select = df_columns[i] #a partir de columna 3, variables a analizar\n",
        "    \n",
        "    #agregar elementos al final de lista\n",
        "    columns_df_select.append(mes)\n",
        "    columns_df_select.append(column_select)#nombre columna a pivotear y a analizar \n",
        "    \n",
        "    df_filtered = df_max_min[columns_df_select]#df completo solo saco las var a analizar\n",
        "    df_clean_nan = df_filtered.dropna()\n",
        "    #agrupar las nuevas columnas por el min\n",
        "    df_groupby = df_clean_nan.groupby(['Mes']).max(column_select)#colum a analizar\n",
        "\n",
        "    #\n",
        "\n",
        "    if i == 3:\n",
        "      df_full_metrics = df_groupby #copia de primera vuelta\n",
        "\n",
        "    if i == 4:\n",
        "      df_result = pd.concat([df_full_metrics, df_groupby], axis = 1)#mes var 1 y var 2\n",
        "    \n",
        "    if i > 4:\n",
        "      df_result = pd.concat([df_result, df_groupby], axis = 1)\n",
        "\n",
        "  return df_result"
      ],
      "metadata": {
        "id": "HY0sMa6wl6E3"
      },
      "execution_count": null,
      "outputs": []
    },
    {
      "cell_type": "code",
      "source": [
        "df_test_etl_min = estacion_var_min_month(df_max_min)\n",
        "df_test_etl.head()"
      ],
      "metadata": {
        "id": "vHZJr0zFl_a9"
      },
      "execution_count": null,
      "outputs": []
    },
    {
      "cell_type": "code",
      "source": [
        "df_test_etl_max = estacion_var_max_month(df_max_min)\n",
        "df_test_etl.head()"
      ],
      "metadata": {
        "id": "7gQ4ceRQmF9q"
      },
      "execution_count": null,
      "outputs": []
    }
  ]
}